{
 "cells": [
  {
   "cell_type": "markdown",
   "metadata": {},
   "source": [
    "# Introduction : \n",
    "This notebook will study the influence of the reormalisation on the frequency renormalisation of a small junction "
   ]
  },
  {
   "cell_type": "markdown",
   "metadata": {},
   "source": [
    "## Libraries : "
   ]
  },
  {
   "cell_type": "code",
   "execution_count": 1,
   "metadata": {},
   "outputs": [],
   "source": [
    "from __future__ import division\n",
    "import numpy as np\n",
    "from numpy.linalg import inv\n",
    "import scipy.linalg as lin\n",
    "import scipy.constants as cst\n",
    "import matplotlib.pyplot as plt\n",
    "%matplotlib qt"
   ]
  },
  {
   "cell_type": "markdown",
   "metadata": {},
   "source": [
    "## Intializing parameters : "
   ]
  },
  {
   "cell_type": "code",
   "execution_count": 2,
   "metadata": {},
   "outputs": [],
   "source": [
    "def initialize_parameters():\n",
    "    # Physical constants and parameters\n",
    "    phi0 = cst.hbar / (2 * cst.e)  # Flux quantum\n",
    "    h = cst.h\n",
    "    e = cst.e\n",
    "\n",
    "    # Device-specific parameters (Shelender's Sample 8)\n",
    "    N = 1498\n",
    "    ELa = 66e6 * h\n",
    "    Eja = N * ELa\n",
    "    Cja = 45e-15 * 1.890 * 0.207\n",
    "    ECa = e**2 / (2 * Cja)\n",
    "    Ejb = 7 * 1e9 * h\n",
    "    ECb = 1.0 * 1e9 * h\n",
    "    Cb = e**2 / (2 * ECb)\n",
    "    Ib = Ejb / phi0\n",
    "    Lb = phi0 / Ib\n",
    "    Ia = Eja / phi0\n",
    "    Lja = phi0 / Ia\n",
    "    \n",
    "    Cg = 14.8e-18\n",
    "    Eg = e**2 / (2 * Cg)\n",
    "\n",
    "    # Fit parameters\n",
    "    gcc = 68.5e6 * h\n",
    "    nu_R = 6.89e9\n",
    "    const1 = (np.sqrt((np.pi * 50) / (6.5e3))) * (h * nu_R)\n",
    "    const = gcc / const1\n",
    "    Cc = (const * Cb) / (1 - const)\n",
    "    ECc = e**2 / (2 * Cc)\n",
    "\n",
    "    return Lja, Cg, Cc, Cja, Lb,Cb,N\n"
   ]
  },
  {
   "cell_type": "markdown",
   "metadata": {},
   "source": [
    "## Useful functions"
   ]
  },
  {
   "cell_type": "code",
   "execution_count": 3,
   "metadata": {},
   "outputs": [],
   "source": [
    "def capacitance_matrix(Cg, Cc, Cja, Cb, N):\n",
    "    \"\"\"Calculate and return the capacitance matrix C, setting the last element to zero.\"\"\"\n",
    "    C = np.zeros((N, N))\n",
    "    for i in range(N):\n",
    "        if i == 0:\n",
    "            C[i, i] = Cc + Cja + Cg  # Adjust for first node boundary condition\n",
    "        elif i < N - 1:\n",
    "            C[i, i] = 2 * Cja + Cg  # Interior nodes\n",
    "            C[i, i+1] = -Cja\n",
    "            C[i+1, i] = -Cja\n",
    "        else:\n",
    "            # Set the last diagonal element explicitly \n",
    "            C[i, i] = Cc + Cja + Cg + Cb   # Last element \n",
    "\n",
    "    # Adjust anti-diagonal elements if necessary, while ensuring the last element remains zero\n",
    "    for i in range(N):\n",
    "        if i != N - 1:  # Ensure not to alter the last element set previously\n",
    "            if N % 2 == 1 and (i == N // 2 or i == N - 1 - (N // 2)):\n",
    "                C[i, N-1-i] = -Cja\n",
    "            elif N % 2 == 0 and (i == N // 2 - 1 or i == N // 2):\n",
    "                C[i, N-1-i] = -Cja\n",
    "            else:\n",
    "                C[i, N-1-i] = -Cg\n",
    "        elif i ==N -1:\n",
    "            C[i,0] = -Cg\n",
    "        \n",
    "\n",
    "    return C\n",
    "\n",
    "\n",
    "def inductance_matrix_inv(Lja, Lb, N):\n",
    "    \"\"\"Compute the inductance matrix numerically, setting the last element to zero.\"\"\"\n",
    "    L = np.zeros((N, N))\n",
    "    for i in range(N):\n",
    "        if i == 0:\n",
    "            L[i, i] = 1 / Lja   # Adjust for boundary conditions at the first node\n",
    "        elif i < N - 1:\n",
    "            L[i, i] = 2 / Lja  # Interior nodes\n",
    "            L[i, i+1] = -1 / Lja\n",
    "            L[i+1, i] = -1 / Lja\n",
    "        else:\n",
    "            # Ensure the last element remains zero (i == N-1)\n",
    "            L[i, i] =  1 / Lja + 1 / Lb  # Explicitly set last diagonal element \n",
    "            # No need to set off-diagonals as they are already handled by the loop for N-1\n",
    "\n",
    "    return L\n",
    "\n",
    "def compute_frequency_eigenvalues(C, L):\n",
    "    \"\"\"Calculate frequency eigenvalues from the given capacitance and inductance matrices.\"\"\"\n",
    "    C_inv = np.linalg.inv(C)\n",
    "    C_inv_sqrt = lin.sqrtm(C_inv)\n",
    "    M = np.dot(np.dot(C_inv_sqrt, L), C_inv_sqrt)\n",
    "    eigenvalues, eigenvectors = np.linalg.eig(M)\n",
    "    frequencies = np.sqrt((eigenvalues)) / (2 * np.pi)  # Convert from rad/s to Hz\n",
    "    return frequencies, eigenvectors"
   ]
  },
  {
   "cell_type": "markdown",
   "metadata": {},
   "source": [
    "## Plotting eigen values and eigen vectors"
   ]
  },
  {
   "cell_type": "code",
   "execution_count": 4,
   "metadata": {},
   "outputs": [
    {
     "name": "stderr",
     "output_type": "stream",
     "text": [
      "C:\\Users\\shele\\anaconda3\\Lib\\site-packages\\matplotlib\\cbook.py:1699: ComplexWarning: Casting complex values to real discards the imaginary part\n",
      "  return math.isfinite(val)\n",
      "C:\\Users\\shele\\anaconda3\\Lib\\site-packages\\matplotlib\\cbook.py:1345: ComplexWarning: Casting complex values to real discards the imaginary part\n",
      "  return np.asarray(x, float)\n"
     ]
    },
    {
     "data": {
      "text/plain": [
       "<matplotlib.legend.Legend at 0x21480ae4c50>"
      ]
     },
     "execution_count": 4,
     "metadata": {},
     "output_type": "execute_result"
    }
   ],
   "source": [
    "# Initialize parameters\n",
    "Lja, Cg, Cc, Cja, Lb, Cb,N = initialize_parameters()\n",
    "\n",
    "# Generate capacitance and inductance matrices\n",
    "C_matrix = capacitance_matrix(Cg, Cc, Cja, Cb, N)  # Assuming you want to use Cg for Cb in your example\n",
    "L_inv_matrix = inductance_matrix_inv(Lja, Lb, N)\n",
    "\n",
    "# Compute eigenvalues and eigenvectors\n",
    "frequencies, eigenvectors = compute_frequency_eigenvalues(C_matrix, L_inv_matrix)\n",
    "\n",
    "# Plotting the first N/2 + 1 eigenvalues and the first three eigenvectors\n",
    "plt.figure(figsize=(10, 4))\n",
    "\n",
    "# Plot eigenvalues\n",
    "plt.subplot(1, 2, 1)\n",
    "# plt.semilogx(range(2, N+1), frequencies[1:]/1e9, 'o')  # Convert Hz to GHz\n",
    "plt.semilogx(range(1, N+1), frequencies/1e9, 'o')  # Convert Hz to GHz\n",
    "\n",
    "plt.title('Computed Frequencies (GHz)')\n",
    "plt.xlabel('Mode Number')\n",
    "plt.ylabel('Frequency (GHz)')\n",
    "plt.ylim(0,33)\n",
    "plt.grid(True, which=\"both\", ls=\"--\")\n",
    "\n",
    "# Plot the first three eigenvectors\n",
    "plt.subplot(1, 2, 2)\n",
    "for i in range(4):\n",
    "    plt.plot(eigenvectors[:int(N/2 + 1), i], label=f'Eigenvector {i + 1}')\n",
    "plt.title('First four modes')\n",
    "plt.xlabel('site_index')\n",
    "plt.ylabel('Amplitude')\n",
    "plt.legend()"
   ]
  },
  {
   "cell_type": "code",
   "execution_count": 5,
   "metadata": {},
   "outputs": [
    {
     "data": {
      "text/plain": [
       "array([2.97091187e+09+0.j, 5.77870376e+09+0.j, 7.25429651e+09+0.j, ...,\n",
       "       2.94997216e+10+0.j, 2.94997216e+10+0.j, 2.94997216e+10+0.j])"
      ]
     },
     "execution_count": 5,
     "metadata": {},
     "output_type": "execute_result"
    }
   ],
   "source": [
    "frequencies"
   ]
  },
  {
   "cell_type": "markdown",
   "metadata": {},
   "source": [
    "### Plotting eigen values and eigen vectors with phi"
   ]
  },
  {
   "cell_type": "code",
   "execution_count": 27,
   "metadata": {},
   "outputs": [
    {
     "ename": "ValueError",
     "evalue": "not enough values to unpack (expected 3, got 2)",
     "output_type": "error",
     "traceback": [
      "\u001b[1;31m---------------------------------------------------------------------------\u001b[0m",
      "\u001b[1;31mValueError\u001b[0m                                Traceback (most recent call last)",
      "Cell \u001b[1;32mIn[27], line 29\u001b[0m\n\u001b[0;32m     26\u001b[0m L_inv_matrix \u001b[38;5;241m=\u001b[39m inductance_matrix_inv(Lja, Lb, N)\n\u001b[0;32m     28\u001b[0m \u001b[38;5;66;03m# Compute the eigenvalues, eigenvectors, and phi\u001b[39;00m\n\u001b[1;32m---> 29\u001b[0m frequencies, eigenvectors, phi \u001b[38;5;241m=\u001b[39m compute_frequency_eigenvalues(C_matrix, L_inv_matrix)\n\u001b[0;32m     31\u001b[0m \u001b[38;5;66;03m# Plot the phi values for the first three eigenvectors up to N/2\u001b[39;00m\n\u001b[0;32m     32\u001b[0m plt\u001b[38;5;241m.\u001b[39mfigure(figsize\u001b[38;5;241m=\u001b[39m(\u001b[38;5;241m12\u001b[39m, \u001b[38;5;241m6\u001b[39m))\n",
      "\u001b[1;31mValueError\u001b[0m: not enough values to unpack (expected 3, got 2)"
     ]
    }
   ],
   "source": [
    "# def compute_frequency_eigenvalues_phi(C, L):\n",
    "#     \"\"\"Calculate frequency eigenvalues, eigenvectors, and phi from the given capacitance and inductance matrices.\"\"\"\n",
    "#     C_inv = np.linalg.inv(C)\n",
    "#     C_inv_sqrt = lin.sqrtm(C_inv)\n",
    "#     M = np.dot(np.dot(C_inv_sqrt, L), C_inv_sqrt)\n",
    "#     eigenvalues, eigenvectors = np.linalg.eig(M)\n",
    "#     frequencies = np.sqrt(np.abs(eigenvalues)) / (2 * np.pi)  # Convert from rad/s to Hz\n",
    "#     frequencies = np.real(frequencies)  # Ensure frequencies are real\n",
    "\n",
    "#     # Compute phi from eigenvectors\n",
    "#     phi = np.dot(C_inv_sqrt, eigenvectors)\n",
    "#     phi = 2 * cst.e * phi * np.sqrt(1 / (cst.h * frequencies[np.newaxis, :]))\n",
    "\n",
    "#     return frequencies, eigenvectors, phi  # Ensure all three values are returned\n",
    "\n",
    "# # Ensure N is defined and matrices C and L are initialized properly before this step\n",
    "# N = 1498  # Define the size of matrices\n",
    "# Cg = 21.6e-18\n",
    "# Cc = 4.32e-15\n",
    "# Cja = 11.25e-15\n",
    "# Cb = 2.66e-15\n",
    "# Lja = 3.49e-9\n",
    "# Lb = 33.12e-9\n",
    "\n",
    "# C_matrix = capacitance_matrix(Cg, Cc, Cja, Cb, N)\n",
    "# L_inv_matrix = inductance_matrix_inv(Lja, Lb, N)\n",
    "\n",
    "# # Compute the eigenvalues, eigenvectors, and phi\n",
    "# frequencies, eigenvectors, phi = compute_frequency_eigenvalues(C_matrix, L_inv_matrix)\n",
    "\n",
    "# # Plot the phi values for the first three eigenvectors up to N/2\n",
    "# plt.figure(figsize=(12, 6))\n",
    "# for i in range(3):\n",
    "#     plt.plot(phi[:int(N/2+1), i+1], label=f'Phi for Eigenvector {i+1}')\n",
    "# plt.title('Phi for First Three Eigenvectors (First Half)')\n",
    "# plt.xlabel('Component Index')\n",
    "# plt.ylabel('Phi Value')\n",
    "# plt.legend()\n",
    "# plt.show()"
   ]
  },
  {
   "cell_type": "markdown",
   "metadata": {},
   "source": [
    "# RAM sample"
   ]
  },
  {
   "cell_type": "code",
   "execution_count": 6,
   "metadata": {},
   "outputs": [],
   "source": [
    "from __future__ import division\n",
    "import numpy as np\n",
    "from numpy.linalg import inv\n",
    "import scipy.linalg as lin\n",
    "import scipy.constants as cst\n",
    "import matplotlib.pyplot as plt\n",
    "%matplotlib qt"
   ]
  },
  {
   "cell_type": "code",
   "execution_count": 7,
   "metadata": {},
   "outputs": [],
   "source": [
    "# Physical constants and parameters\n",
    "h = cst.h\n",
    "e = cst.e"
   ]
  },
  {
   "cell_type": "code",
   "execution_count": 8,
   "metadata": {},
   "outputs": [],
   "source": [
    "def capacitance_matrix(Cg, Cc, Cja, Cb, N):\n",
    "    \"\"\"Calculate and return the capacitance matrix C, setting the last element to zero.\"\"\"\n",
    "    C = np.zeros((N, N))\n",
    "    for i in range(N):\n",
    "        if i == 0:\n",
    "            C[i, i] = Cc + Cja + Cg  # Adjust for first node boundary condition\n",
    "        elif i < N - 1:\n",
    "            C[i, i] = 2 * Cja + Cg  # Interior nodes\n",
    "            C[i, i+1] = -Cja\n",
    "            C[i+1, i] = -Cja\n",
    "        else:\n",
    "            # Set the last diagonal element explicitly \n",
    "            C[i, i] = Cc + Cja + Cg + Cb   # Last element \n",
    "\n",
    "    # Adjust anti-diagonal elements if necessary, while ensuring the last element remains zero\n",
    "    for i in range(N):\n",
    "        if i != N - 1:  # Ensure not to alter the last element set previously\n",
    "            if N % 2 == 1 and (i == N // 2 or i == N - 1 - (N // 2)):\n",
    "                C[i, N-1-i] = -Cja\n",
    "            elif N % 2 == 0 and (i == N // 2 - 1 or i == N // 2):\n",
    "                C[i, N-1-i] = -Cja\n",
    "            else:\n",
    "                C[i, N-1-i] = -Cg\n",
    "        elif i ==N -1:\n",
    "            C[i,0] = -Cg\n",
    "        \n",
    "\n",
    "    return C\n",
    "\n",
    "\n",
    "def inductance_matrix_inv(Lja, Lb, N):\n",
    "    \"\"\"Compute the inductance matrix numerically, setting the last element to zero.\"\"\"\n",
    "    L = np.zeros((N, N))\n",
    "    for i in range(N):\n",
    "        if i == 0:\n",
    "            L[i, i] = 1 / Lja   # Adjust for boundary conditions at the first node\n",
    "        elif i < N - 1:\n",
    "            L[i, i] = 2 / Lja  # Interior nodes\n",
    "            L[i, i+1] = -1 / Lja\n",
    "            L[i+1, i] = -1 / Lja\n",
    "        else:\n",
    "            # Ensure the last element remains zero (i == N-1)\n",
    "            L[i, i] =  1 / Lja + 1 / Lb  # Explicitly set last diagonal element \n",
    "            # No need to set off-diagonals as they are already handled by the loop for N-1\n",
    "\n",
    "    return L\n",
    "\n",
    "\n",
    "def compute_frequency_eigenvalues(C, L):\n",
    "    \"\"\"Calculate frequency eigenvalues from the given capacitance and inductance matrices.\"\"\"\n",
    "    C_inv = np.linalg.inv(C)\n",
    "    C_inv_sqrt = lin.sqrtm(C_inv)\n",
    "    M = np.dot(np.dot(C_inv_sqrt, L), C_inv_sqrt)\n",
    "    eigenvalues, eigenvectors = np.linalg.eig(M)\n",
    "    frequencies = np.sqrt((eigenvalues)) / (2 * np.pi)  # Convert from rad/s to Hz\n",
    "    return frequencies, eigenvectors"
   ]
  },
  {
   "cell_type": "code",
   "execution_count": 9,
   "metadata": {},
   "outputs": [],
   "source": [
    "# Constants and matrix generation\n",
    "N = 418 #418\n",
    "Cja = 11.25e-15\n",
    "Lja = 3.49e-9\n",
    "Cg = 21.6e-18 #23.35\n",
    "Cc = 4.32e-15 # 4.32e-15 \n",
    "Cb = 2.66e-15 \n",
    "Lb = 33.12e-9\n",
    "\n",
    "\n",
    "C_matrix = capacitance_matrix(Cg, Cc, Cja, Cb, N)\n",
    "L_inv_matrix = inductance_matrix_inv(Lja, Lb, N)\n",
    "frequencies, eigenvectors = compute_frequency_eigenvalues(C_matrix, L_inv_matrix)\n",
    "\n",
    "# Plotting the frequencies in one plot\n",
    "plt.figure(figsize=(10, 4))\n",
    "plt.subplot(1, 2, 1)\n",
    "plt.semilogx(range(1, N+1), frequencies/1e9, 'o')  # Convert Hz to GHz\n",
    "\n",
    "plt.title('Computed Frequencies (GHz)')\n",
    "plt.xlabel('Mode Number')\n",
    "plt.ylabel('Frequency (GHz)')\n",
    "plt.ylim(0,26)\n",
    "plt.grid(True, which=\"both\", ls=\"--\")\n",
    "\n",
    "# Plotting all three eigenvectors together in another plot\n",
    "plt.subplot(1, 2, 2)\n",
    "\n",
    "for i in range(4):\n",
    "    plt.plot(eigenvectors[:int(N/2 + 1),i], label=f'Eigenvector {i+1}')\n",
    "plt.title('First four modes')\n",
    "plt.xlabel('site_index')\n",
    "plt.ylabel('Amplitude')\n",
    "plt.legend()\n",
    "plt.tight_layout()\n",
    "plt.show()"
   ]
  },
  {
   "cell_type": "markdown",
   "metadata": {},
   "source": [
    "## Fitting function"
   ]
  },
  {
   "cell_type": "code",
   "execution_count": 5,
   "metadata": {},
   "outputs": [],
   "source": [
    "from scipy.optimize import minimize\n",
    "error_history = []  # This list will store the error values\n",
    "\n",
    "def error_function(params, expt_data, Cja, Lja, Cb, Lb, N):\n",
    "    Cg, Cc = params\n",
    "    C_matrix = capacitance_matrix(Cg, Cc, Cja, Cb, N)\n",
    "    L_inv_matrix = inductance_matrix_inv(Lja, Lb, N)\n",
    "    frequencies, _ = compute_frequency_eigenvalues(C_matrix, L_inv_matrix)\n",
    "    computed_freqs = frequencies[:4] / (2 * np.pi)  # Convert first four frequencies from rad/s to Hz\n",
    "    error = np.sum((computed_freqs - expt_data)**2)\n",
    "    error_history.append(error)  # Append current error to the history\n",
    "    return error\n"
   ]
  },
  {
   "cell_type": "code",
   "execution_count": 6,
   "metadata": {},
   "outputs": [
    {
     "name": "stdout",
     "output_type": "stream",
     "text": [
      "Optimized parameters: Cg = 2.16e-17, Cc = 4.32e-15\n"
     ]
    },
    {
     "name": "stderr",
     "output_type": "stream",
     "text": [
      "C:\\Users\\shele\\anaconda3\\Lib\\site-packages\\scipy\\optimize\\_numdiff.py:598: ComplexWarning: Casting complex values to real discards the imaginary part\n",
      "  J_transposed[i] = df / dx\n",
      "C:\\Users\\shele\\anaconda3\\Lib\\site-packages\\scipy\\optimize\\_lbfgsb_py.py:356: ComplexWarning: Casting complex values to real discards the imaginary part\n",
      "  _lbfgsb.setulb(m, x, low_bnd, upper_bnd, nbd, f, g, factr,\n"
     ]
    }
   ],
   "source": [
    "from scipy.optimize import minimize\n",
    "\n",
    "# Initial guesses and setup as before\n",
    "initial_params = [21.6e-18, 4.32e-15]  # initial guesses for Cg and Cc\n",
    "bounds = [(1e-19, 1e-16), (1e-16, 1e-13)]  # bounds for the parameters\n",
    "\n",
    "# Experimental data\n",
    "expt_data = np.array([5.62e9, 10.04e9, 12.72e9, 15.6e9])  # Given experimental frequencies\n",
    "\n",
    "# Perform optimization\n",
    "result = minimize(error_function, initial_params, args=(expt_data, Cja, Lja, Cb, Lb, N), bounds=bounds)\n",
    "optimized_params = result.x\n",
    "print(\"Optimized parameters: Cg = {:.2e}, Cc = {:.2e}\".format(optimized_params[0], optimized_params[1]))"
   ]
  },
  {
   "cell_type": "code",
   "execution_count": 7,
   "metadata": {},
   "outputs": [
    {
     "name": "stderr",
     "output_type": "stream",
     "text": [
      "C:\\Users\\shele\\anaconda3\\Lib\\site-packages\\matplotlib\\cbook.py:1699: ComplexWarning: Casting complex values to real discards the imaginary part\n",
      "  return math.isfinite(val)\n",
      "C:\\Users\\shele\\anaconda3\\Lib\\site-packages\\matplotlib\\cbook.py:1345: ComplexWarning: Casting complex values to real discards the imaginary part\n",
      "  return np.asarray(x, float)\n"
     ]
    }
   ],
   "source": [
    "import matplotlib.pyplot as plt\n",
    "\n",
    "plt.figure(figsize=(10, 5))\n",
    "plt.plot(error_history, marker='o', linestyle='-')\n",
    "plt.title('Optimization Error History')\n",
    "plt.xlabel('Iteration Number')\n",
    "plt.ylabel('Error')\n",
    "plt.grid(True)\n",
    "plt.show()\n"
   ]
  },
  {
   "cell_type": "code",
   "execution_count": 8,
   "metadata": {},
   "outputs": [
    {
     "data": {
      "text/plain": [
       "(True, 'CONVERGENCE: NORM_OF_PROJECTED_GRADIENT_<=_PGTOL', 0)"
      ]
     },
     "execution_count": 8,
     "metadata": {},
     "output_type": "execute_result"
    }
   ],
   "source": [
    "result.success,result.message, result.nit"
   ]
  },
  {
   "cell_type": "code",
   "execution_count": 9,
   "metadata": {},
   "outputs": [
    {
     "name": "stdout",
     "output_type": "stream",
     "text": [
      "Optimization was successful. Final parameters found.\n",
      "Optimized Cg: 2.16e-17, Optimized Cc: 4.32e-15\n",
      "Final error: (4.006167936406437e+20+0j)\n"
     ]
    }
   ],
   "source": [
    "# Define your initial guess and bounds\n",
    "initial_guess = [21.6e-18, 4.32e-15]  # initial guesses for Cg and Cc\n",
    "bounds = [(1e-19, 1e-16), (1e-16, 1e-13)]  # Example bounds\n",
    "\n",
    "# Assuming these are the values from initialize_parameters or defined elsewhere\n",
    "Cja = 11.25e-15\n",
    "Lja = 3.49e-9\n",
    "Cb = 2.66e-15\n",
    "Lb = 33.12e-9\n",
    "N = 418\n",
    "expt_data = np.array([5.62e9, 10.04e9, 12.72e9, 15.6e9])\n",
    "\n",
    "# Use scipy.optimize.minimize with extra arguments passed\n",
    "result = minimize(\n",
    "    error_function, \n",
    "    initial_guess, \n",
    "    args=(expt_data, Cja, Lja, Cb, Lb, N),  # Pass additional arguments needed by error_function\n",
    "    method='L-BFGS-B', \n",
    "    bounds=bounds,\n",
    "    options={'ftol': 1e-9, 'gtol': 1e-6}\n",
    ")\n",
    "\n",
    "if result.success:\n",
    "    print(\"Optimization was successful. Final parameters found.\")\n",
    "    print(\"Optimized Cg: {:.2e}, Optimized Cc: {:.2e}\".format(result.x[0], result.x[1]))\n",
    "else:\n",
    "    print(\"Optimization failed:\", result.message)\n",
    "\n",
    "print(\"Final error:\", result.fun)"
   ]
  },
  {
   "cell_type": "markdown",
   "metadata": {},
   "source": [
    "# Printing capcaitence and inductance matrices"
   ]
  },
  {
   "cell_type": "code",
   "execution_count": 12,
   "metadata": {},
   "outputs": [
    {
     "name": "stdout",
     "output_type": "stream",
     "text": [
      "⎡Cc + Cg + Cja      0        0        0              -Cg        ⎤\n",
      "⎢                                                               ⎥\n",
      "⎢      0        Cg + 2⋅Cja  -Cja     -Cg              0         ⎥\n",
      "⎢                                                               ⎥\n",
      "⎢      0           -Cja     -Cja     -Cja             0         ⎥\n",
      "⎢                                                               ⎥\n",
      "⎢      0           -Cg      -Cja  Cg + 2⋅Cja         -Cja       ⎥\n",
      "⎢                                                               ⎥\n",
      "⎣     -Cg           0        0       -Cja     Cb + Cc + Cg + Cja⎦\n"
     ]
    }
   ],
   "source": [
    "import sympy as sp\n",
    "import numpy as np\n",
    "\n",
    "def symbolic_capacitance_matrix(Cg, Cc, Cja, Cb, N):\n",
    "    \"\"\"Calculate and return the symbolic capacitance matrix C, setting the last element to zero.\"\"\"\n",
    "    C = sp.Matrix.zeros(N, N)\n",
    "    for i in range(N):\n",
    "        if i == 0:\n",
    "            C[i, i] = Cc + Cja + Cg  # Adjust for first node boundary condition\n",
    "        elif i < N - 1:\n",
    "            C[i, i] = 2 * Cja + Cg  # Interior nodes\n",
    "            C[i, i+1] = -Cja\n",
    "            C[i+1, i] = -Cja\n",
    "        else:\n",
    "            # Set the last diagonal element explicitly \n",
    "            C[i, i] = Cc + Cja + Cg + Cb   # Last element \n",
    "\n",
    "    # Adjust anti-diagonal elements if necessary, while ensuring the last element remains zero\n",
    "    for i in range(N):\n",
    "        if i != N - 1:  # Ensure not to alter the last element set previously\n",
    "            if N % 2 == 1 and (i == N // 2 or i == N - 1 - (N // 2)):\n",
    "                C[i, N-1-i] = -Cja\n",
    "            elif N % 2 == 0 and (i == N // 2 - 1 or i == N // 2):\n",
    "                C[i, N-1-i] = -Cja\n",
    "            else:\n",
    "                C[i, N-1-i] = -Cg\n",
    "        elif i == N - 1:\n",
    "            C[i, 0] = -Cg\n",
    "        \n",
    "    return C\n",
    "\n",
    "def symbolic_inductance_matrix_inv(Lja, Lb, N):\n",
    "    \"\"\"Compute the symbolic inductance matrix numerically, setting the last element to zero.\"\"\"\n",
    "    L = sp.Matrix.zeros(N, N)\n",
    "    for i in range(N):\n",
    "        if i == 0:\n",
    "            L[i, i] = 1 / Lja   # Adjust for boundary conditions at the first node\n",
    "        elif i < N - 1:\n",
    "            L[i, i] = 2 / Lja  # Interior nodes\n",
    "            L[i, i+1] = -1 / Lja\n",
    "            L[i+1, i] = -1 / Lja\n",
    "        else:\n",
    "            # Ensure the last element remains zero (i == N-1)\n",
    "            L[i, i] =  1 / Lja + 1 / Lb  # Explicitly set last diagonal element \n",
    "            # No need to set off-diagonals as they are already handled by the loop for N-1\n",
    "\n",
    "    return L\n",
    "\n",
    "# Define symbolic variables\n",
    "Cg, Cc, Cja, Cb, Lja, Lb = sp.symbols('Cg Cc Cja Cb Lja Lb')\n",
    "N = 5  # Example size of the matrix\n",
    "\n",
    "# Get symbolic matrices\n",
    "C_matrix = symbolic_capacitance_matrix(Cg, Cc, Cja, Cb, N)\n",
    "L_matrix_inv = symbolic_inductance_matrix_inv(Lja, Lb, N)\n",
    "\n",
    "# Print symbolic matrices\n",
    "sp.pretty_print(C_matrix)\n",
    "sp.pretty_print(L_matrix_inv)\n",
    "# "
   ]
  },
  {
   "cell_type": "code",
   "execution_count": 11,
   "metadata": {},
   "outputs": [
    {
     "name": "stdout",
     "output_type": "stream",
     "text": [
      "⎡ 1                          ⎤\n",
      "⎢───   0    0    0      0    ⎥\n",
      "⎢Lja                         ⎥\n",
      "⎢                            ⎥\n",
      "⎢      2   -1                ⎥\n",
      "⎢ 0   ───  ───   0      0    ⎥\n",
      "⎢     Lja  Lja               ⎥\n",
      "⎢                            ⎥\n",
      "⎢     -1    2   -1           ⎥\n",
      "⎢ 0   ───  ───  ───     0    ⎥\n",
      "⎢     Lja  Lja  Lja          ⎥\n",
      "⎢                            ⎥\n",
      "⎢          -1    2     -1    ⎥\n",
      "⎢ 0    0   ───  ───    ───   ⎥\n",
      "⎢          Lja  Lja    Lja   ⎥\n",
      "⎢                            ⎥\n",
      "⎢               -1    1    1 ⎥\n",
      "⎢ 0    0    0   ───  ─── + ──⎥\n",
      "⎣               Lja  Lja   Lb⎦\n"
     ]
    }
   ],
   "source": [
    "sp.pretty_print(L_matrix_inv)\n"
   ]
  },
  {
   "cell_type": "code",
   "execution_count": 13,
   "metadata": {},
   "outputs": [
    {
     "name": "stdout",
     "output_type": "stream",
     "text": [
      "⎡Cc + Cg + Cja      0        0        0              -Cg        ⎤\n",
      "⎢                                                               ⎥\n",
      "⎢      0        Cg + 2⋅Cja  -Cja     -Cg              0         ⎥\n",
      "⎢                                                               ⎥\n",
      "⎢      0           -Cja     -Cja     -Cja             0         ⎥\n",
      "⎢                                                               ⎥\n",
      "⎢      0           -Cg      -Cja  Cg + 2⋅Cja         -Cja       ⎥\n",
      "⎢                                                               ⎥\n",
      "⎣     -Cg           0        0       -Cja     Cb + Cc + Cg + Cja⎦\n"
     ]
    }
   ],
   "source": [
    "sp.pretty_print(C_matrix)"
   ]
  },
  {
   "cell_type": "code",
   "execution_count": null,
   "metadata": {},
   "outputs": [],
   "source": []
  }
 ],
 "metadata": {
  "kernelspec": {
   "display_name": "Python 3 (ipykernel)",
   "language": "python",
   "name": "python3"
  },
  "language_info": {
   "codemirror_mode": {
    "name": "ipython",
    "version": 3
   },
   "file_extension": ".py",
   "mimetype": "text/x-python",
   "name": "python",
   "nbconvert_exporter": "python",
   "pygments_lexer": "ipython3",
   "version": "3.11.7"
  }
 },
 "nbformat": 4,
 "nbformat_minor": 4
}
